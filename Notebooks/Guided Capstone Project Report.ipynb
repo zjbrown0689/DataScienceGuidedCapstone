{
 "cells": [
  {
   "cell_type": "markdown",
   "id": "c0b95db1",
   "metadata": {},
   "source": [
    "# Guided Capstone Project Report\n",
    "## Prepared by Zachary Brown\n",
    "## Prepared on 9-7-22\n",
    "\n"
   ]
  }
 ],
 "metadata": {
  "kernelspec": {
   "display_name": "Python 3 (ipykernel)",
   "language": "python",
   "name": "python3"
  },
  "language_info": {
   "codemirror_mode": {
    "name": "ipython",
    "version": 3
   },
   "file_extension": ".py",
   "mimetype": "text/x-python",
   "name": "python",
   "nbconvert_exporter": "python",
   "pygments_lexer": "ipython3",
   "version": "3.9.7"
  }
 },
 "nbformat": 4,
 "nbformat_minor": 5
}
